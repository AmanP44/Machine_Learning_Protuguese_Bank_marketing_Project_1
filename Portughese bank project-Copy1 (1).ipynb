{
 "cells": [
  {
   "cell_type": "markdown",
   "id": "0c27bf69",
   "metadata": {},
   "source": [
    "# DOMAIN ANALYSIS"
   ]
  },
  {
   "cell_type": "markdown",
   "id": "ff337795",
   "metadata": {},
   "source": [
    "### INPUT VARIABLES\n",
    "\n",
    "#### ATTRIBUTES INFORMATION:"
   ]
  },
  {
   "cell_type": "markdown",
   "id": "b3f12aa9",
   "metadata": {},
   "source": [
    "1 - age (numeric)\n",
    "\n",
    "2 - job : type of job (categorical: 'admin.','blue-collar','entrepreneur','housemaid','management','retired','self-employed','services','student','technician','unemployed','unknown')\n",
    "\n",
    "3 - marital : marital status (categorical: 'divorced','married','single','unknown'; note: 'divorced' means divorced or widowed)\n",
    "\n",
    "4 - education (categorical: 'basic.4y','basic.6y','basic.9y','high.school','illiterate','professional.course','university.degree','unknown')\n",
    "\n",
    "5 - default: has credit in default? (categorical: 'no','yes','unknown')\n",
    "\n",
    "6 - housing: has housing loan? (categorical: 'no','yes','unknown')\n",
    "\n",
    "7 - loan: has personal loan? (categorical: 'no','yes','unknown')\n",
    "\n",
    "### related with the last contact of the current campaign:\n",
    "\n",
    "8 - contact: contact communication type (categorical: 'cellular','telephone')\n",
    "\n",
    "9 - month: last contact month of year (categorical: 'jan', 'feb', 'mar', ..., 'nov', 'dec')\n",
    "\n",
    "10 - day_of_week: last contact day of the week (categorical: 'mon','tue','wed','thu','fri')\n",
    "\n",
    "11 - duration: last contact duration, in seconds (numeric). Important note: this attribute highly affects the output target (e.g., if duration=0 then y='no'). Yet, the duration is not known before a call is performed. Also, after the end of the call y is obviously known. Thus, this input should only be included for benchmark purposes and should be discarded if the intention is to have a realistic predictive model.\n",
    "\n",
    "### other attributes:\n",
    "\n",
    "12 - campaign: number of contacts performed during this campaign and for this client (numeric, includes last contact)\n",
    "\n",
    "13 - pdays: number of days that passed by after the client was last contacted from a previous campaign (numeric; 999 means client was not previously contacted)\n",
    "\n",
    "14 - previous: number of contacts performed before this campaign and for this client (numeric)\n",
    "\n",
    "### social and economic \n",
    "\n",
    "16 - emp.var.rate: employment varia15 - poutcome: outcome of the previous marketing campaign (categorical: 'failure','nonexistent','success\n",
    "context attributes\n",
    "tion rate - quarterly indicator (numeric)\n",
    "\n",
    "17 - cons.price.idx: consumer price index - monthly indicator (numeric)\n",
    "\n",
    "18 - cons.conf.idx: consumer confidence index - monthly indicator (numeric)\n",
    "\n",
    "19 - euribor3m: euribor 3 month rate - daily indicator (numeric)\n",
    "\n",
    "20 - nr.employed: number of employees - quarterly indicator (numeric)\n",
    "\n",
    "### Output variable (desired target):\n",
    "\n",
    "21 - y - has the client subscribed a term deposit? (binary: 'yes','no')\n"
   ]
  },
  {
   "cell_type": "code",
   "execution_count": 1,
   "id": "a5d601f6",
   "metadata": {},
   "outputs": [],
   "source": [
    "# importing libraries\n",
    "import pandas as pd\n",
    "import numpy as np \n",
    "import seaborn as sns\n",
    "import matplotlib.pyplot as plt"
   ]
  },
  {
   "cell_type": "code",
   "execution_count": 2,
   "id": "a5a9b0c3",
   "metadata": {},
   "outputs": [
    {
     "ename": "FileNotFoundError",
     "evalue": "[Errno 2] No such file or directory: 'Portughese bank.csv'",
     "output_type": "error",
     "traceback": [
      "\u001b[1;31m---------------------------------------------------------------------------\u001b[0m",
      "\u001b[1;31mFileNotFoundError\u001b[0m                         Traceback (most recent call last)",
      "Cell \u001b[1;32mIn[2], line 2\u001b[0m\n\u001b[0;32m      1\u001b[0m \u001b[38;5;66;03m# data reading\u001b[39;00m\n\u001b[1;32m----> 2\u001b[0m data \u001b[38;5;241m=\u001b[39m \u001b[43mpd\u001b[49m\u001b[38;5;241;43m.\u001b[39;49m\u001b[43mread_csv\u001b[49m\u001b[43m(\u001b[49m\u001b[38;5;124;43m\"\u001b[39;49m\u001b[38;5;124;43mPortughese bank.csv\u001b[39;49m\u001b[38;5;124;43m\"\u001b[39;49m\u001b[43m,\u001b[49m\u001b[43msep\u001b[49m\u001b[43m \u001b[49m\u001b[38;5;241;43m=\u001b[39;49m\u001b[38;5;124;43m'\u001b[39;49m\u001b[38;5;124;43m;\u001b[39;49m\u001b[38;5;124;43m'\u001b[39;49m\u001b[43m)\u001b[49m\n",
      "File \u001b[1;32m~\\anaconda3\\lib\\site-packages\\pandas\\util\\_decorators.py:211\u001b[0m, in \u001b[0;36mdeprecate_kwarg.<locals>._deprecate_kwarg.<locals>.wrapper\u001b[1;34m(*args, **kwargs)\u001b[0m\n\u001b[0;32m    209\u001b[0m     \u001b[38;5;28;01melse\u001b[39;00m:\n\u001b[0;32m    210\u001b[0m         kwargs[new_arg_name] \u001b[38;5;241m=\u001b[39m new_arg_value\n\u001b[1;32m--> 211\u001b[0m \u001b[38;5;28;01mreturn\u001b[39;00m func(\u001b[38;5;241m*\u001b[39margs, \u001b[38;5;241m*\u001b[39m\u001b[38;5;241m*\u001b[39mkwargs)\n",
      "File \u001b[1;32m~\\anaconda3\\lib\\site-packages\\pandas\\util\\_decorators.py:331\u001b[0m, in \u001b[0;36mdeprecate_nonkeyword_arguments.<locals>.decorate.<locals>.wrapper\u001b[1;34m(*args, **kwargs)\u001b[0m\n\u001b[0;32m    325\u001b[0m \u001b[38;5;28;01mif\u001b[39;00m \u001b[38;5;28mlen\u001b[39m(args) \u001b[38;5;241m>\u001b[39m num_allow_args:\n\u001b[0;32m    326\u001b[0m     warnings\u001b[38;5;241m.\u001b[39mwarn(\n\u001b[0;32m    327\u001b[0m         msg\u001b[38;5;241m.\u001b[39mformat(arguments\u001b[38;5;241m=\u001b[39m_format_argument_list(allow_args)),\n\u001b[0;32m    328\u001b[0m         \u001b[38;5;167;01mFutureWarning\u001b[39;00m,\n\u001b[0;32m    329\u001b[0m         stacklevel\u001b[38;5;241m=\u001b[39mfind_stack_level(),\n\u001b[0;32m    330\u001b[0m     )\n\u001b[1;32m--> 331\u001b[0m \u001b[38;5;28;01mreturn\u001b[39;00m func(\u001b[38;5;241m*\u001b[39margs, \u001b[38;5;241m*\u001b[39m\u001b[38;5;241m*\u001b[39mkwargs)\n",
      "File \u001b[1;32m~\\anaconda3\\lib\\site-packages\\pandas\\io\\parsers\\readers.py:950\u001b[0m, in \u001b[0;36mread_csv\u001b[1;34m(filepath_or_buffer, sep, delimiter, header, names, index_col, usecols, squeeze, prefix, mangle_dupe_cols, dtype, engine, converters, true_values, false_values, skipinitialspace, skiprows, skipfooter, nrows, na_values, keep_default_na, na_filter, verbose, skip_blank_lines, parse_dates, infer_datetime_format, keep_date_col, date_parser, dayfirst, cache_dates, iterator, chunksize, compression, thousands, decimal, lineterminator, quotechar, quoting, doublequote, escapechar, comment, encoding, encoding_errors, dialect, error_bad_lines, warn_bad_lines, on_bad_lines, delim_whitespace, low_memory, memory_map, float_precision, storage_options)\u001b[0m\n\u001b[0;32m    935\u001b[0m kwds_defaults \u001b[38;5;241m=\u001b[39m _refine_defaults_read(\n\u001b[0;32m    936\u001b[0m     dialect,\n\u001b[0;32m    937\u001b[0m     delimiter,\n\u001b[1;32m   (...)\u001b[0m\n\u001b[0;32m    946\u001b[0m     defaults\u001b[38;5;241m=\u001b[39m{\u001b[38;5;124m\"\u001b[39m\u001b[38;5;124mdelimiter\u001b[39m\u001b[38;5;124m\"\u001b[39m: \u001b[38;5;124m\"\u001b[39m\u001b[38;5;124m,\u001b[39m\u001b[38;5;124m\"\u001b[39m},\n\u001b[0;32m    947\u001b[0m )\n\u001b[0;32m    948\u001b[0m kwds\u001b[38;5;241m.\u001b[39mupdate(kwds_defaults)\n\u001b[1;32m--> 950\u001b[0m \u001b[38;5;28;01mreturn\u001b[39;00m \u001b[43m_read\u001b[49m\u001b[43m(\u001b[49m\u001b[43mfilepath_or_buffer\u001b[49m\u001b[43m,\u001b[49m\u001b[43m \u001b[49m\u001b[43mkwds\u001b[49m\u001b[43m)\u001b[49m\n",
      "File \u001b[1;32m~\\anaconda3\\lib\\site-packages\\pandas\\io\\parsers\\readers.py:605\u001b[0m, in \u001b[0;36m_read\u001b[1;34m(filepath_or_buffer, kwds)\u001b[0m\n\u001b[0;32m    602\u001b[0m _validate_names(kwds\u001b[38;5;241m.\u001b[39mget(\u001b[38;5;124m\"\u001b[39m\u001b[38;5;124mnames\u001b[39m\u001b[38;5;124m\"\u001b[39m, \u001b[38;5;28;01mNone\u001b[39;00m))\n\u001b[0;32m    604\u001b[0m \u001b[38;5;66;03m# Create the parser.\u001b[39;00m\n\u001b[1;32m--> 605\u001b[0m parser \u001b[38;5;241m=\u001b[39m TextFileReader(filepath_or_buffer, \u001b[38;5;241m*\u001b[39m\u001b[38;5;241m*\u001b[39mkwds)\n\u001b[0;32m    607\u001b[0m \u001b[38;5;28;01mif\u001b[39;00m chunksize \u001b[38;5;129;01mor\u001b[39;00m iterator:\n\u001b[0;32m    608\u001b[0m     \u001b[38;5;28;01mreturn\u001b[39;00m parser\n",
      "File \u001b[1;32m~\\anaconda3\\lib\\site-packages\\pandas\\io\\parsers\\readers.py:1442\u001b[0m, in \u001b[0;36mTextFileReader.__init__\u001b[1;34m(self, f, engine, **kwds)\u001b[0m\n\u001b[0;32m   1439\u001b[0m     \u001b[38;5;28mself\u001b[39m\u001b[38;5;241m.\u001b[39moptions[\u001b[38;5;124m\"\u001b[39m\u001b[38;5;124mhas_index_names\u001b[39m\u001b[38;5;124m\"\u001b[39m] \u001b[38;5;241m=\u001b[39m kwds[\u001b[38;5;124m\"\u001b[39m\u001b[38;5;124mhas_index_names\u001b[39m\u001b[38;5;124m\"\u001b[39m]\n\u001b[0;32m   1441\u001b[0m \u001b[38;5;28mself\u001b[39m\u001b[38;5;241m.\u001b[39mhandles: IOHandles \u001b[38;5;241m|\u001b[39m \u001b[38;5;28;01mNone\u001b[39;00m \u001b[38;5;241m=\u001b[39m \u001b[38;5;28;01mNone\u001b[39;00m\n\u001b[1;32m-> 1442\u001b[0m \u001b[38;5;28mself\u001b[39m\u001b[38;5;241m.\u001b[39m_engine \u001b[38;5;241m=\u001b[39m \u001b[38;5;28;43mself\u001b[39;49m\u001b[38;5;241;43m.\u001b[39;49m\u001b[43m_make_engine\u001b[49m\u001b[43m(\u001b[49m\u001b[43mf\u001b[49m\u001b[43m,\u001b[49m\u001b[43m \u001b[49m\u001b[38;5;28;43mself\u001b[39;49m\u001b[38;5;241;43m.\u001b[39;49m\u001b[43mengine\u001b[49m\u001b[43m)\u001b[49m\n",
      "File \u001b[1;32m~\\anaconda3\\lib\\site-packages\\pandas\\io\\parsers\\readers.py:1735\u001b[0m, in \u001b[0;36mTextFileReader._make_engine\u001b[1;34m(self, f, engine)\u001b[0m\n\u001b[0;32m   1733\u001b[0m     \u001b[38;5;28;01mif\u001b[39;00m \u001b[38;5;124m\"\u001b[39m\u001b[38;5;124mb\u001b[39m\u001b[38;5;124m\"\u001b[39m \u001b[38;5;129;01mnot\u001b[39;00m \u001b[38;5;129;01min\u001b[39;00m mode:\n\u001b[0;32m   1734\u001b[0m         mode \u001b[38;5;241m+\u001b[39m\u001b[38;5;241m=\u001b[39m \u001b[38;5;124m\"\u001b[39m\u001b[38;5;124mb\u001b[39m\u001b[38;5;124m\"\u001b[39m\n\u001b[1;32m-> 1735\u001b[0m \u001b[38;5;28mself\u001b[39m\u001b[38;5;241m.\u001b[39mhandles \u001b[38;5;241m=\u001b[39m \u001b[43mget_handle\u001b[49m\u001b[43m(\u001b[49m\n\u001b[0;32m   1736\u001b[0m \u001b[43m    \u001b[49m\u001b[43mf\u001b[49m\u001b[43m,\u001b[49m\n\u001b[0;32m   1737\u001b[0m \u001b[43m    \u001b[49m\u001b[43mmode\u001b[49m\u001b[43m,\u001b[49m\n\u001b[0;32m   1738\u001b[0m \u001b[43m    \u001b[49m\u001b[43mencoding\u001b[49m\u001b[38;5;241;43m=\u001b[39;49m\u001b[38;5;28;43mself\u001b[39;49m\u001b[38;5;241;43m.\u001b[39;49m\u001b[43moptions\u001b[49m\u001b[38;5;241;43m.\u001b[39;49m\u001b[43mget\u001b[49m\u001b[43m(\u001b[49m\u001b[38;5;124;43m\"\u001b[39;49m\u001b[38;5;124;43mencoding\u001b[39;49m\u001b[38;5;124;43m\"\u001b[39;49m\u001b[43m,\u001b[49m\u001b[43m \u001b[49m\u001b[38;5;28;43;01mNone\u001b[39;49;00m\u001b[43m)\u001b[49m\u001b[43m,\u001b[49m\n\u001b[0;32m   1739\u001b[0m \u001b[43m    \u001b[49m\u001b[43mcompression\u001b[49m\u001b[38;5;241;43m=\u001b[39;49m\u001b[38;5;28;43mself\u001b[39;49m\u001b[38;5;241;43m.\u001b[39;49m\u001b[43moptions\u001b[49m\u001b[38;5;241;43m.\u001b[39;49m\u001b[43mget\u001b[49m\u001b[43m(\u001b[49m\u001b[38;5;124;43m\"\u001b[39;49m\u001b[38;5;124;43mcompression\u001b[39;49m\u001b[38;5;124;43m\"\u001b[39;49m\u001b[43m,\u001b[49m\u001b[43m \u001b[49m\u001b[38;5;28;43;01mNone\u001b[39;49;00m\u001b[43m)\u001b[49m\u001b[43m,\u001b[49m\n\u001b[0;32m   1740\u001b[0m \u001b[43m    \u001b[49m\u001b[43mmemory_map\u001b[49m\u001b[38;5;241;43m=\u001b[39;49m\u001b[38;5;28;43mself\u001b[39;49m\u001b[38;5;241;43m.\u001b[39;49m\u001b[43moptions\u001b[49m\u001b[38;5;241;43m.\u001b[39;49m\u001b[43mget\u001b[49m\u001b[43m(\u001b[49m\u001b[38;5;124;43m\"\u001b[39;49m\u001b[38;5;124;43mmemory_map\u001b[39;49m\u001b[38;5;124;43m\"\u001b[39;49m\u001b[43m,\u001b[49m\u001b[43m \u001b[49m\u001b[38;5;28;43;01mFalse\u001b[39;49;00m\u001b[43m)\u001b[49m\u001b[43m,\u001b[49m\n\u001b[0;32m   1741\u001b[0m \u001b[43m    \u001b[49m\u001b[43mis_text\u001b[49m\u001b[38;5;241;43m=\u001b[39;49m\u001b[43mis_text\u001b[49m\u001b[43m,\u001b[49m\n\u001b[0;32m   1742\u001b[0m \u001b[43m    \u001b[49m\u001b[43merrors\u001b[49m\u001b[38;5;241;43m=\u001b[39;49m\u001b[38;5;28;43mself\u001b[39;49m\u001b[38;5;241;43m.\u001b[39;49m\u001b[43moptions\u001b[49m\u001b[38;5;241;43m.\u001b[39;49m\u001b[43mget\u001b[49m\u001b[43m(\u001b[49m\u001b[38;5;124;43m\"\u001b[39;49m\u001b[38;5;124;43mencoding_errors\u001b[39;49m\u001b[38;5;124;43m\"\u001b[39;49m\u001b[43m,\u001b[49m\u001b[43m \u001b[49m\u001b[38;5;124;43m\"\u001b[39;49m\u001b[38;5;124;43mstrict\u001b[39;49m\u001b[38;5;124;43m\"\u001b[39;49m\u001b[43m)\u001b[49m\u001b[43m,\u001b[49m\n\u001b[0;32m   1743\u001b[0m \u001b[43m    \u001b[49m\u001b[43mstorage_options\u001b[49m\u001b[38;5;241;43m=\u001b[39;49m\u001b[38;5;28;43mself\u001b[39;49m\u001b[38;5;241;43m.\u001b[39;49m\u001b[43moptions\u001b[49m\u001b[38;5;241;43m.\u001b[39;49m\u001b[43mget\u001b[49m\u001b[43m(\u001b[49m\u001b[38;5;124;43m\"\u001b[39;49m\u001b[38;5;124;43mstorage_options\u001b[39;49m\u001b[38;5;124;43m\"\u001b[39;49m\u001b[43m,\u001b[49m\u001b[43m \u001b[49m\u001b[38;5;28;43;01mNone\u001b[39;49;00m\u001b[43m)\u001b[49m\u001b[43m,\u001b[49m\n\u001b[0;32m   1744\u001b[0m \u001b[43m\u001b[49m\u001b[43m)\u001b[49m\n\u001b[0;32m   1745\u001b[0m \u001b[38;5;28;01massert\u001b[39;00m \u001b[38;5;28mself\u001b[39m\u001b[38;5;241m.\u001b[39mhandles \u001b[38;5;129;01mis\u001b[39;00m \u001b[38;5;129;01mnot\u001b[39;00m \u001b[38;5;28;01mNone\u001b[39;00m\n\u001b[0;32m   1746\u001b[0m f \u001b[38;5;241m=\u001b[39m \u001b[38;5;28mself\u001b[39m\u001b[38;5;241m.\u001b[39mhandles\u001b[38;5;241m.\u001b[39mhandle\n",
      "File \u001b[1;32m~\\anaconda3\\lib\\site-packages\\pandas\\io\\common.py:856\u001b[0m, in \u001b[0;36mget_handle\u001b[1;34m(path_or_buf, mode, encoding, compression, memory_map, is_text, errors, storage_options)\u001b[0m\n\u001b[0;32m    851\u001b[0m \u001b[38;5;28;01melif\u001b[39;00m \u001b[38;5;28misinstance\u001b[39m(handle, \u001b[38;5;28mstr\u001b[39m):\n\u001b[0;32m    852\u001b[0m     \u001b[38;5;66;03m# Check whether the filename is to be opened in binary mode.\u001b[39;00m\n\u001b[0;32m    853\u001b[0m     \u001b[38;5;66;03m# Binary mode does not support 'encoding' and 'newline'.\u001b[39;00m\n\u001b[0;32m    854\u001b[0m     \u001b[38;5;28;01mif\u001b[39;00m ioargs\u001b[38;5;241m.\u001b[39mencoding \u001b[38;5;129;01mand\u001b[39;00m \u001b[38;5;124m\"\u001b[39m\u001b[38;5;124mb\u001b[39m\u001b[38;5;124m\"\u001b[39m \u001b[38;5;129;01mnot\u001b[39;00m \u001b[38;5;129;01min\u001b[39;00m ioargs\u001b[38;5;241m.\u001b[39mmode:\n\u001b[0;32m    855\u001b[0m         \u001b[38;5;66;03m# Encoding\u001b[39;00m\n\u001b[1;32m--> 856\u001b[0m         handle \u001b[38;5;241m=\u001b[39m \u001b[38;5;28;43mopen\u001b[39;49m\u001b[43m(\u001b[49m\n\u001b[0;32m    857\u001b[0m \u001b[43m            \u001b[49m\u001b[43mhandle\u001b[49m\u001b[43m,\u001b[49m\n\u001b[0;32m    858\u001b[0m \u001b[43m            \u001b[49m\u001b[43mioargs\u001b[49m\u001b[38;5;241;43m.\u001b[39;49m\u001b[43mmode\u001b[49m\u001b[43m,\u001b[49m\n\u001b[0;32m    859\u001b[0m \u001b[43m            \u001b[49m\u001b[43mencoding\u001b[49m\u001b[38;5;241;43m=\u001b[39;49m\u001b[43mioargs\u001b[49m\u001b[38;5;241;43m.\u001b[39;49m\u001b[43mencoding\u001b[49m\u001b[43m,\u001b[49m\n\u001b[0;32m    860\u001b[0m \u001b[43m            \u001b[49m\u001b[43merrors\u001b[49m\u001b[38;5;241;43m=\u001b[39;49m\u001b[43merrors\u001b[49m\u001b[43m,\u001b[49m\n\u001b[0;32m    861\u001b[0m \u001b[43m            \u001b[49m\u001b[43mnewline\u001b[49m\u001b[38;5;241;43m=\u001b[39;49m\u001b[38;5;124;43m\"\u001b[39;49m\u001b[38;5;124;43m\"\u001b[39;49m\u001b[43m,\u001b[49m\n\u001b[0;32m    862\u001b[0m \u001b[43m        \u001b[49m\u001b[43m)\u001b[49m\n\u001b[0;32m    863\u001b[0m     \u001b[38;5;28;01melse\u001b[39;00m:\n\u001b[0;32m    864\u001b[0m         \u001b[38;5;66;03m# Binary mode\u001b[39;00m\n\u001b[0;32m    865\u001b[0m         handle \u001b[38;5;241m=\u001b[39m \u001b[38;5;28mopen\u001b[39m(handle, ioargs\u001b[38;5;241m.\u001b[39mmode)\n",
      "\u001b[1;31mFileNotFoundError\u001b[0m: [Errno 2] No such file or directory: 'Portughese bank.csv'"
     ]
    }
   ],
   "source": [
    "# data reading\n",
    "data = pd.read_csv(\"Portughese bank.csv\",sep =';')"
   ]
  },
  {
   "cell_type": "code",
   "execution_count": null,
   "id": "067c2b58",
   "metadata": {
    "scrolled": true
   },
   "outputs": [],
   "source": [
    "data"
   ]
  },
  {
   "cell_type": "code",
   "execution_count": null,
   "id": "4f584285",
   "metadata": {},
   "outputs": [],
   "source": [
    "data.columns"
   ]
  },
  {
   "cell_type": "code",
   "execution_count": 4,
   "id": "60364097",
   "metadata": {},
   "outputs": [
    {
     "ename": "NameError",
     "evalue": "name 'data' is not defined",
     "output_type": "error",
     "traceback": [
      "\u001b[1;31m---------------------------------------------------------------------------\u001b[0m",
      "\u001b[1;31mNameError\u001b[0m                                 Traceback (most recent call last)",
      "Cell \u001b[1;32mIn[4], line 2\u001b[0m\n\u001b[0;32m      1\u001b[0m \u001b[38;5;66;03m# replacing the catogerical data of y to numerical\u001b[39;00m\n\u001b[1;32m----> 2\u001b[0m data[\u001b[38;5;124m'\u001b[39m\u001b[38;5;124my\u001b[39m\u001b[38;5;124m'\u001b[39m]\u001b[38;5;241m=\u001b[39m\u001b[43mdata\u001b[49m[\u001b[38;5;124m'\u001b[39m\u001b[38;5;124my\u001b[39m\u001b[38;5;124m'\u001b[39m]\u001b[38;5;241m.\u001b[39mreplace({\u001b[38;5;124m'\u001b[39m\u001b[38;5;124myes\u001b[39m\u001b[38;5;124m'\u001b[39m:\u001b[38;5;241m1\u001b[39m,\u001b[38;5;124m'\u001b[39m\u001b[38;5;124mno\u001b[39m\u001b[38;5;124m'\u001b[39m:\u001b[38;5;241m0\u001b[39m})\n\u001b[0;32m      3\u001b[0m data[\u001b[38;5;124m'\u001b[39m\u001b[38;5;124my\u001b[39m\u001b[38;5;124m'\u001b[39m]\u001b[38;5;241m=\u001b[39mdata[\u001b[38;5;124m'\u001b[39m\u001b[38;5;124my\u001b[39m\u001b[38;5;124m'\u001b[39m]\u001b[38;5;241m.\u001b[39mastype(\u001b[38;5;124m\"\u001b[39m\u001b[38;5;124mint64\u001b[39m\u001b[38;5;124m\"\u001b[39m)\n\u001b[0;32m      4\u001b[0m data\n",
      "\u001b[1;31mNameError\u001b[0m: name 'data' is not defined"
     ]
    }
   ],
   "source": [
    "# replacing the catogerical data of y to numerical\n",
    "data['y']=data['y'].replace({'yes':1,'no':0})\n",
    "data['y']=data['y'].astype(\"int64\")\n",
    "data"
   ]
  },
  {
   "cell_type": "markdown",
   "id": "bcc4b165",
   "metadata": {},
   "source": [
    "#### BASIC CHECKS"
   ]
  },
  {
   "cell_type": "code",
   "execution_count": null,
   "id": "78766bc0",
   "metadata": {
    "scrolled": true
   },
   "outputs": [],
   "source": [
    "data.head()"
   ]
  },
  {
   "cell_type": "code",
   "execution_count": null,
   "id": "7c48137e",
   "metadata": {
    "scrolled": true
   },
   "outputs": [],
   "source": [
    "data.tail()"
   ]
  },
  {
   "cell_type": "code",
   "execution_count": null,
   "id": "074e421f",
   "metadata": {
    "scrolled": true
   },
   "outputs": [],
   "source": [
    "data.info()"
   ]
  },
  {
   "cell_type": "markdown",
   "id": "49b8ad5b",
   "metadata": {},
   "source": [
    "#### Data has no null values"
   ]
  },
  {
   "cell_type": "code",
   "execution_count": null,
   "id": "c8d7fb95",
   "metadata": {},
   "outputs": [],
   "source": [
    "data.shape"
   ]
  },
  {
   "cell_type": "code",
   "execution_count": null,
   "id": "e140c78e",
   "metadata": {
    "scrolled": true
   },
   "outputs": [],
   "source": [
    "# describing the numerical datas\n",
    "data.describe()"
   ]
  },
  {
   "cell_type": "code",
   "execution_count": null,
   "id": "7a0c3f79",
   "metadata": {},
   "outputs": [],
   "source": [
    "# describing the catogerical datas\n",
    "data.describe (include='O')"
   ]
  },
  {
   "cell_type": "code",
   "execution_count": null,
   "id": "ec437031",
   "metadata": {
    "scrolled": false
   },
   "outputs": [],
   "source": [
    "data.dtypes"
   ]
  },
  {
   "cell_type": "markdown",
   "id": "c4d4a7e1",
   "metadata": {},
   "source": [
    "# EXPLORATORY DATA ANALYSIS"
   ]
  },
  {
   "cell_type": "code",
   "execution_count": null,
   "id": "9cc61753",
   "metadata": {},
   "outputs": [],
   "source": [
    "data.head()"
   ]
  },
  {
   "cell_type": "markdown",
   "id": "d77329a1",
   "metadata": {},
   "source": [
    "### Univariate analysis "
   ]
  },
  {
   "cell_type": "code",
   "execution_count": null,
   "id": "50f59728",
   "metadata": {
    "scrolled": true
   },
   "outputs": [],
   "source": [
    "# univariate analysis using count plots\n",
    "sns.countplot(x=data[\"age\"],data=data)\n",
    "plt.show()"
   ]
  },
  {
   "cell_type": "code",
   "execution_count": null,
   "id": "a829f766",
   "metadata": {
    "scrolled": true
   },
   "outputs": [],
   "source": [
    "data.columns"
   ]
  },
  {
   "cell_type": "code",
   "execution_count": null,
   "id": "0ac04c98",
   "metadata": {},
   "outputs": [],
   "source": [
    "# ANALYSING ALL NUMERICAL DATA SETS USING COUNTPLOT\n",
    "import warnings\n",
    "warnings.filterwarnings('ignore')\n",
    "data1=data[['age', 'duration', 'campaign', 'pdays', 'previous', 'emp.var.rate','cons.price.idx', 'cons.conf.idx', 'euribor3m', 'nr.employed','y']]\n",
    "plt.figure(figsize=(10,100),facecolor=\"white\")\n",
    "plotnumber=1\n",
    "for column in data1:\n",
    "    \n",
    "    if plotnumber<=10:\n",
    "        \n",
    "        ax=plt.subplot(10,1,plotnumber)\n",
    "        sns.countplot(data1[column])\n",
    "        plt.xlabel(column,fontsize=25)\n",
    "        \n",
    "        \n",
    "    plotnumber+=1\n",
    "plt.tight_layout()\n",
    "plt.show()\n",
    "    "
   ]
  },
  {
   "cell_type": "code",
   "execution_count": null,
   "id": "6daeffa0",
   "metadata": {},
   "outputs": [],
   "source": [
    "# Anlaysing the all categorical datas using countplot\n",
    "import warnings\n",
    "warnings.filterwarnings('ignore')\n",
    "data2=data[['job', 'marital', 'education', 'default', 'housing', 'loan', 'contact', 'month', 'day_of_week', 'poutcome']]\n",
    "plt.figure(figsize=(10,100),facecolor=\"white\")\n",
    "plotnumber=1\n",
    "for column in data2:\n",
    "    \n",
    "    if plotnumber<=11:\n",
    "        \n",
    "        ax=plt.subplot(11,1,plotnumber)\n",
    "        sns.countplot(data2[column])\n",
    "        plt.xlabel(column,fontsize=25)\n",
    "        \n",
    "        \n",
    "    plotnumber+=1\n",
    "plt.tight_layout()\n",
    "plt.show()"
   ]
  },
  {
   "cell_type": "code",
   "execution_count": 3,
   "id": "8fd3d3f8",
   "metadata": {},
   "outputs": [
    {
     "ename": "NameError",
     "evalue": "name 'data1' is not defined",
     "output_type": "error",
     "traceback": [
      "\u001b[1;31m---------------------------------------------------------------------------\u001b[0m",
      "\u001b[1;31mNameError\u001b[0m                                 Traceback (most recent call last)",
      "Cell \u001b[1;32mIn[3], line 6\u001b[0m\n\u001b[0;32m      4\u001b[0m plt\u001b[38;5;241m.\u001b[39mfigure(figsize\u001b[38;5;241m=\u001b[39m(\u001b[38;5;241m10\u001b[39m,\u001b[38;5;241m80\u001b[39m),facecolor\u001b[38;5;241m=\u001b[39m\u001b[38;5;124m\"\u001b[39m\u001b[38;5;124mwhite\u001b[39m\u001b[38;5;124m\"\u001b[39m)\n\u001b[0;32m      5\u001b[0m plotnumber\u001b[38;5;241m=\u001b[39m\u001b[38;5;241m1\u001b[39m\n\u001b[1;32m----> 6\u001b[0m \u001b[38;5;28;01mfor\u001b[39;00m column \u001b[38;5;129;01min\u001b[39;00m \u001b[43mdata1\u001b[49m:\n\u001b[0;32m      8\u001b[0m     \u001b[38;5;28;01mif\u001b[39;00m plotnumber\u001b[38;5;241m<\u001b[39m\u001b[38;5;241m=\u001b[39m\u001b[38;5;241m10\u001b[39m:\n\u001b[0;32m     10\u001b[0m         ax\u001b[38;5;241m=\u001b[39mplt\u001b[38;5;241m.\u001b[39msubplot(\u001b[38;5;241m10\u001b[39m,\u001b[38;5;241m1\u001b[39m,plotnumber)\n",
      "\u001b[1;31mNameError\u001b[0m: name 'data1' is not defined"
     ]
    },
    {
     "data": {
      "text/plain": [
       "<Figure size 1000x8000 with 0 Axes>"
      ]
     },
     "metadata": {},
     "output_type": "display_data"
    }
   ],
   "source": [
    "# Analysing the distribution of numerical datas using histplot\n",
    "import warnings\n",
    "warnings.filterwarnings('ignore')\n",
    "plt.figure(figsize=(10,80),facecolor=\"white\")\n",
    "plotnumber=1\n",
    "for column in data1:\n",
    "    \n",
    "    if plotnumber<=10:\n",
    "        \n",
    "        ax=plt.subplot(10,1,plotnumber)\n",
    "        sns.histplot(data[column],kde=True)\n",
    "        plt.xlabel(column,fontsize=25)\n",
    "        \n",
    "        \n",
    "    plotnumber+=1\n",
    "plt.tight_layout()\n",
    "plt.show()"
   ]
  },
  {
   "cell_type": "code",
   "execution_count": null,
   "id": "d1519997",
   "metadata": {},
   "outputs": [],
   "source": [
    "# Analysing the categorical datas using histplot\n",
    "import warnings\n",
    "warnings.filterwarnings(\"ignore\")\n",
    "data2=data[['job', 'marital', 'education', 'default', 'housing', 'loan', 'contact', 'month', 'day_of_week', 'poutcome']]\n",
    "plt.figure(figsize=(10,100),facecolor=\"white\")\n",
    "plotnumber=1\n",
    "for column in data2:\n",
    "    if plotnumber<=11:\n",
    "        ax=plt.subplot(11,1,plotnumber)\n",
    "        sns.histplot(data2[column],kde=True)\n",
    "        plt.xlabel(column,fontsize=25)\n",
    "    plotnumber+=1\n",
    "plt.tight_layout()\n",
    "plt.show()\n",
    "        "
   ]
  },
  {
   "cell_type": "code",
   "execution_count": null,
   "id": "ebca68f4",
   "metadata": {},
   "outputs": [],
   "source": [
    "# Analysing the data using pieplot\n",
    "data2=data[['job', 'marital', 'education', 'default', 'housing', 'loan', 'contact', 'month', 'day_of_week', 'poutcome']]\n",
    "plt.figure(figsize=(100,100))\n",
    "plotnumber=1\n",
    "for column in data2:\n",
    "    if plotnumber<=21:\n",
    "        ax = plt.subplot(21,1,plotnumber)\n",
    "        ax.pie(data2[column].value_counts(normalize=True),labels=data[column].value_counts().index,autopct='%1.1f%%')\n",
    "        ax.set_title(column,fontsize=25)\n",
    "    plotnumber+=1\n",
    "plt.tight_layout()\n",
    "plt.show()\n",
    "         "
   ]
  },
  {
   "cell_type": "code",
   "execution_count": null,
   "id": "07b94d03",
   "metadata": {},
   "outputs": [],
   "source": [
    "data.columns"
   ]
  },
  {
   "cell_type": "code",
   "execution_count": null,
   "id": "b93e3366",
   "metadata": {
    "scrolled": true
   },
   "outputs": [],
   "source": [
    "data1=data[['age','duration','campaign','pdays','previous','emp.var.rate','cons.price.idx','cons.conf.idx','euribor3m','nr.employed']]\n",
    "data1"
   ]
  },
  {
   "cell_type": "code",
   "execution_count": null,
   "id": "119223e7",
   "metadata": {},
   "outputs": [],
   "source": [
    "# Analysing the data using distplot\n",
    "data1=data[['age','duration','campaign','pdays','previous','emp.var.rate','cons.price.idx','cons.conf.idx','euribor3m','nr.employed']]\n",
    "plt.figure(figsize=(10,75))\n",
    "plotnumber=1\n",
    "for column in data1:\n",
    "    if plotnumber<=10:\n",
    "        ax=plt.subplot(10,1,plotnumber)\n",
    "        sns.distplot(data1[column])\n",
    "        plt.xlabel(column,fontsize=25)\n",
    "    plotnumber+=1\n",
    "plt.tight_layout()\n",
    "plt.show()"
   ]
  },
  {
   "cell_type": "code",
   "execution_count": null,
   "id": "9cb741d9",
   "metadata": {},
   "outputs": [],
   "source": [
    "data.loc()"
   ]
  },
  {
   "cell_type": "code",
   "execution_count": null,
   "id": "2638273d",
   "metadata": {},
   "outputs": [],
   "source": [
    "# checking outliers using boxplots\n",
    "import warnings\n",
    "warnings.filterwarnings(\"ignore\")\n",
    "data1=data[['age', 'duration', 'campaign', 'pdays', 'previous', 'emp.var.rate','cons.price.idx', 'cons.conf.idx', 'euribor3m', 'nr.employed']]\n",
    "plt.figure(figsize=(10,100),facecolor=\"white\")\n",
    "plotnumber=1\n",
    "for column in data1:\n",
    "    if plotnumber<=11:\n",
    "        ax=plt.subplot(11,1,plotnumber)\n",
    "        sns.boxplot(data1[column])\n",
    "        plt.xlabel(column,fontsize=25)\n",
    "    plotnumber+=1\n",
    "plt.tight_layout()\n",
    "plt.show()\n",
    "        "
   ]
  },
  {
   "cell_type": "code",
   "execution_count": null,
   "id": "15a2b124",
   "metadata": {},
   "outputs": [],
   "source": [
    "!pip install sweetviz"
   ]
  },
  {
   "cell_type": "code",
   "execution_count": null,
   "id": "6b190579",
   "metadata": {},
   "outputs": [],
   "source": [
    "import sweetviz as sv\n",
    "my_report= sv.analyze(data)\n",
    "my_report.show_html()"
   ]
  },
  {
   "cell_type": "markdown",
   "id": "8a1dc738",
   "metadata": {},
   "source": [
    "### Bivariate analysis"
   ]
  },
  {
   "cell_type": "code",
   "execution_count": null,
   "id": "34b0a2a5",
   "metadata": {},
   "outputs": [],
   "source": [
    "data"
   ]
  },
  {
   "cell_type": "code",
   "execution_count": null,
   "id": "0a9be626",
   "metadata": {},
   "outputs": [],
   "source": [
    "# bivariate analysis using countplot\n",
    "import warnings\n",
    "warnings.filterwarnings(\"ignore\")\n",
    "data=data[['age','duration','campaign','pdays','previous','emp.var.rate','cons.price.idx','cons.conf.idx','euribor3m','nr.employed','y']]\n",
    "plt.figure(figsize=(20,50),facecolor=\"white\")\n",
    "plotnumber=1\n",
    "for column in data:\n",
    "    if plotnumber<=20:\n",
    "        ax=plt.subplot(10,2,plotnumber)\n",
    "        sns.countplot(data[column],hue=data['y'])\n",
    "        plt.xlabel(column,fontsize=20)\n",
    "        \n",
    "    plotnumber+=1\n",
    "plt.tight_layout()\n",
    "plt.show()"
   ]
  },
  {
   "cell_type": "markdown",
   "id": "912e1602",
   "metadata": {},
   "source": [
    "## INSIGHTS IN THE EDA "
   ]
  },
  {
   "cell_type": "markdown",
   "id": "56b4ffe9",
   "metadata": {},
   "source": [
    "### Types of data\n",
    "\n",
    "@ Variable Types:\n",
    "    \n",
    "\n",
    "Numerical (10):- ['age', 'duration', 'campaign', 'pdays', 'previous','emp.var.rate', 'cons.price.idx', 'cons.conf.idx', 'euribor3m', 'nr.employed']\n",
    "\n",
    "\n",
    "Categorical (11) :-['job', 'marital', 'education', 'default', 'housing', 'loan', 'contact', 'month', 'day_of_week', 'poutcome', 'y']\n",
    "\n",
    "\n",
    "The information is written on the basis of above graphs and statistical summary.\n",
    "\n",
    "- age:\n",
    "\n",
    "We have clients with all the ages (minimum age 17 to maximum age 98).\n",
    "Mean(40.0241) and median(38) have very less diference.\n",
    "age attribute does not have any missing values.\n",
    "\n",
    "- job:\n",
    "\n",
    "Job attribute shows the clients job information.\n",
    "It also shows that there are some unknown values. It mean that they are not mentioned there job type.\n",
    "\n",
    "- marital:\n",
    "\n",
    "mariatal attribute is shows the client marital information(married,single,divorced).\n",
    "Pie and Count plots shows that married people are taking more subscriptions than the other clients.\n",
    "\n",
    "- Education:\n",
    "\n",
    "Education attribue shows the clients Education information\n",
    "Pie and Count plots shows that secondary education type people are taking more subscription than the other clients.\n",
    "\n",
    "- default:\n",
    "\n",
    "default attribute shows the client credit information-['yes','no'].\n",
    "Pie and count plots shows that no credit clients are taking more subscription than the other clients.\n",
    "\n",
    "- housing:\n",
    "\n",
    "housing attribute shows the client housing loan information.['yes','No']\n",
    "Pie and Count plots shows that housing loan ('yes') are taken more when compair to othere clients('no').\n",
    "\n",
    "- loan:\n",
    "\n",
    "housing attribute shows the client personal loan information.['yes','No'].\n",
    "Pie and Count plots shows that personal loan ('no') are taken more when compair to other clients('yes').\n",
    "It quite opposite to the housing loan.\n",
    "\n",
    "- contact:\n",
    "\n",
    "contact attribute show the communication type-['cellular', 'telephone'].\n",
    "Pie and count plot shows that clients are more contacted through the celluar type of communication when to other type.\n",
    "\n",
    "- month:\n",
    "\n",
    "Month attribute is about the 12 months information.\n",
    "pie and count plot shows that the May has the highest count when compair to other months.\n",
    "\n",
    "- day_of_week:\n",
    "\n",
    "day_of_week attribute is about the 5 days information.\n",
    "The mean is 3 and median is 3.\n",
    "It is normally distributed. The box plot, histogram and distribution plot also showing same. It doesnot have outilers and missing values.\n",
    "\n",
    "- duration\n",
    "\n",
    "Duration is in seconds.\n",
    "The mean is 258.285 and median is 180. there is more difference between mean and the median.\n",
    "\n",
    "- campaign:\n",
    "\n",
    "They conducted 56 campaigns.\n",
    "The campaign is distributed as right skewed.\n",
    "mean is 2.5676 and median is 2.\n",
    "There is no missing values in campaigns.\n",
    "\n",
    "- pdays:\n",
    "\n",
    "it is about the number of days that passed by after the client was last contacted from a previous campaign.\n",
    "If pdays=999 means client was not previously contacted.\n",
    "mean is 962.4755 and median is 999.\n",
    "\n",
    "- previous:\n",
    "\n",
    "It is about the number of contacts performed before this campaign and for this client.\n",
    "\n",
    "- poutcome:\n",
    "\n",
    "poutcome attribute is about the previous outcome information['nonexistent', 'failure', 'success'].\n",
    "pie and count plots shows that highest count is nonexistent and lowest count is Success.\n",
    "mean is 10.4537 and median is 11.\n",
    "\n",
    "- emp.var.rate:\n",
    "\n",
    "mean is 0.08189 and median is 1.1.\n",
    "\n",
    "- cons.price.idx:\n",
    "\n",
    "It is about the consumer price index in monthly period.\n",
    "The mean is 93.5757 and median is 93.749. there is only small difference between mean and the median.\n",
    "\n",
    "- cons.conf.idx:\n",
    "\n",
    "It is about the consumer confidence index in monthly period.\n",
    "\n",
    "- euribor3m:\n",
    "\n",
    "mean is 3.6213 and median is 4.857.\n",
    "\n",
    "- nr.employed:\n",
    "\n",
    "It is indicated as the number of employees.\n",
    "The mean is 5167.0359 and median is 5191.\n",
    "\n",
    "- y:\n",
    "\n",
    "y is the target variable. It is about the clients subscribe the term desposite (yes or no).\n",
    "pie and count plots shows that highest count is no and lowest count is yes."
   ]
  },
  {
   "cell_type": "markdown",
   "id": "3bd3a84c",
   "metadata": {},
   "source": [
    "### Multivariate analysis"
   ]
  },
  {
   "cell_type": "code",
   "execution_count": null,
   "id": "335799c3",
   "metadata": {},
   "outputs": [],
   "source": [
    "sns.pairplot(data,size=2.1,hue='y',palette='crest')"
   ]
  },
  {
   "cell_type": "markdown",
   "id": "0ca5ec00",
   "metadata": {},
   "source": [
    "## DATA PREPROCESSING AND FEATURE ENGINEERING"
   ]
  },
  {
   "cell_type": "markdown",
   "id": "db5ee720",
   "metadata": {},
   "source": [
    "### checking correlation"
   ]
  },
  {
   "cell_type": "code",
   "execution_count": null,
   "id": "b3f33bdb",
   "metadata": {},
   "outputs": [],
   "source": [
    "# checking correlation\n",
    "plt.figure(figsize=(20,10))\n",
    "sns.heatmap(data.corr(),cmap='viridis',annot=True,linewidths=0.03,center=0)\n"
   ]
  },
  {
   "cell_type": "code",
   "execution_count": null,
   "id": "4fe392ed",
   "metadata": {},
   "outputs": [],
   "source": [
    "data.corr()"
   ]
  },
  {
   "cell_type": "markdown",
   "id": "6d9efe1b",
   "metadata": {},
   "source": [
    "### checking null values"
   ]
  },
  {
   "cell_type": "code",
   "execution_count": null,
   "id": "6c7a55dd",
   "metadata": {
    "scrolled": true
   },
   "outputs": [],
   "source": [
    "# checking null value\n",
    "data.isnull().sum()"
   ]
  },
  {
   "cell_type": "markdown",
   "id": "92a20860",
   "metadata": {},
   "source": [
    "#### data has no null value."
   ]
  },
  {
   "cell_type": "markdown",
   "id": "2327beb1",
   "metadata": {},
   "source": [
    "### checking outliers"
   ]
  },
  {
   "cell_type": "code",
   "execution_count": null,
   "id": "98374c77",
   "metadata": {},
   "outputs": [],
   "source": [
    "# checking the outliers by boxplot\n",
    "sns.boxplot(data['age'])\n",
    "plt.show()"
   ]
  },
  {
   "cell_type": "code",
   "execution_count": null,
   "id": "d1ed36d3",
   "metadata": {},
   "outputs": [],
   "source": [
    "# Age\n",
    "Q1=data['age'].quantile(q=.25)\n",
    "Q3=data['age'].quantile(q=.75)\n",
    "print('Q1 is:',Q1)\n",
    "print('Q3 is:',Q3)"
   ]
  },
  {
   "cell_type": "code",
   "execution_count": null,
   "id": "1507106b",
   "metadata": {},
   "outputs": [],
   "source": [
    "# IQR = Q3-Q1\n",
    "# LOWER 1.5*IQR IS Q1-1.5*IQR\n",
    "# UPPER 1.5*IQR IS Q3+1.5*IQR\n",
    "l_outlier=Q1-1.5*(Q3-Q1)\n",
    "U_outlier=Q3+1.5*(Q3-Q1)\n",
    "print('l_outliers:',l_outlier)\n",
    "print('U_outliers:',U_outlier)"
   ]
  },
  {
   "cell_type": "code",
   "execution_count": null,
   "id": "1375641e",
   "metadata": {},
   "outputs": [],
   "source": [
    "print('Number of outliers in age upper:',data[data['age']> 69.5]['age'].count())\n",
    "print('Number of outliers in age lower:',data[data['age']< 9.5]['age'].count())                                              \n",
    "                                              "
   ]
  },
  {
   "cell_type": "code",
   "execution_count": null,
   "id": "4d84caad",
   "metadata": {},
   "outputs": [],
   "source": [
    "data.loc[data['age']>69.5]"
   ]
  },
  {
   "cell_type": "code",
   "execution_count": null,
   "id": "ac872041",
   "metadata": {},
   "outputs": [],
   "source": [
    "median= data.loc[data['age']<69.5,'age'].median()\n",
    "median"
   ]
  },
  {
   "cell_type": "code",
   "execution_count": null,
   "id": "05635633",
   "metadata": {},
   "outputs": [],
   "source": [
    "data.loc[data.age>69.5,'age']=np.nan\n",
    "data['age'].fillna(data['age'].median(),inplace=True)"
   ]
  },
  {
   "cell_type": "code",
   "execution_count": null,
   "id": "cb169eb1",
   "metadata": {},
   "outputs": [],
   "source": [
    " sns.boxplot(data['age'])"
   ]
  },
  {
   "cell_type": "code",
   "execution_count": null,
   "id": "e5b109b3",
   "metadata": {},
   "outputs": [],
   "source": [
    "# DURATION\n",
    "Q1=data['duration'].quantile(q=.25)\n",
    "Q3=data['duration'].quantile(q=.75)\n",
    "print('Q1 IS :',Q1)\n",
    "print('Q3 IS :',Q3)"
   ]
  },
  {
   "cell_type": "code",
   "execution_count": null,
   "id": "90a5d13f",
   "metadata": {},
   "outputs": [],
   "source": [
    "L_outliers=(Q1)-1.5*(Q3-Q1)\n",
    "U_outliers=(Q3)+1.5*(Q3-Q1)\n",
    "print('L_outliers :',L_outliers)\n",
    "print('U_outliers :',U_outliers)"
   ]
  },
  {
   "cell_type": "code",
   "execution_count": null,
   "id": "bf41bcc7",
   "metadata": {},
   "outputs": [],
   "source": [
    "print('Number of oultliers in Duration upper : ',data[data['duration']>644.5]['duration'].count())\n",
    "print('Number of outliers in Duration lower : ', data[data['duration']<(-223.5)]['duration'].count())"
   ]
  },
  {
   "cell_type": "code",
   "execution_count": null,
   "id": "d637294a",
   "metadata": {},
   "outputs": [],
   "source": [
    "data.loc[data['duration']>644.5]"
   ]
  },
  {
   "cell_type": "code",
   "execution_count": null,
   "id": "6fdc101d",
   "metadata": {},
   "outputs": [],
   "source": [
    "median=data.loc[data['duration']<644.5,'duration'].median()\n",
    "median"
   ]
  },
  {
   "cell_type": "code",
   "execution_count": null,
   "id": "485d284c",
   "metadata": {},
   "outputs": [],
   "source": [
    "data.loc[data.duration>644.5,'duration']=np.nan\n",
    "data['duration'].fillna(data['duration'].median(),inplace=True)"
   ]
  },
  {
   "cell_type": "code",
   "execution_count": null,
   "id": "a04fc0e0",
   "metadata": {},
   "outputs": [],
   "source": [
    "sns.boxplot(data['duration'])"
   ]
  },
  {
   "cell_type": "code",
   "execution_count": null,
   "id": "0a44ccda",
   "metadata": {},
   "outputs": [],
   "source": [
    "# CAMPAIGN\n",
    "Q1= data['campaign'].quantile(q=.25)\n",
    "Q3= data['campaign'].quantile(q=.75)\n",
    "print('Q1 IS:',Q1)\n",
    "print('Q3 IS:',Q3)"
   ]
  },
  {
   "cell_type": "code",
   "execution_count": null,
   "id": "73cc72fa",
   "metadata": {},
   "outputs": [],
   "source": [
    "L_outliers=(Q1)-1.5*(Q3-Q1)\n",
    "U_outliers=(Q3)+1.5*(Q3-Q1)\n",
    "print('L_outliers :',L_outliers)\n",
    "print('U_outliers :',U_outliers)"
   ]
  },
  {
   "cell_type": "code",
   "execution_count": null,
   "id": "c0d5debd",
   "metadata": {},
   "outputs": [],
   "source": [
    "print('Number of oultliers in campaign upper : ',data[data['campaign']>6.0]['duration'].count())\n",
    "print('Number of outliers in campaign lower : ', data[data['campaign']<(-2.0)]['duration'].count())"
   ]
  },
  {
   "cell_type": "code",
   "execution_count": null,
   "id": "7fe521c2",
   "metadata": {},
   "outputs": [],
   "source": [
    "data.loc[data['campaign']>6]"
   ]
  },
  {
   "cell_type": "code",
   "execution_count": null,
   "id": "2b1dc180",
   "metadata": {},
   "outputs": [],
   "source": [
    "median=data.loc[data['campaign']<6,'campaign'].median()\n",
    "median"
   ]
  },
  {
   "cell_type": "code",
   "execution_count": null,
   "id": "2b3d90de",
   "metadata": {},
   "outputs": [],
   "source": [
    "data.loc[data.campaign>6,'campaign']=np.nan\n",
    "data['campaign'].fillna(data['campaign'].median(),inplace=True)"
   ]
  },
  {
   "cell_type": "code",
   "execution_count": null,
   "id": "571c5f14",
   "metadata": {},
   "outputs": [],
   "source": [
    "sns.boxplot(data['campaign'])"
   ]
  },
  {
   "cell_type": "code",
   "execution_count": null,
   "id": "1cf84081",
   "metadata": {},
   "outputs": [],
   "source": [
    "# Pdays\n",
    "Q1= data['pdays'].quantile(q=.25)\n",
    "Q3= data['pdays'].quantile(q=.75)\n",
    "print('Q1 IS:',Q1)\n",
    "print('Q3 IS:',Q3)"
   ]
  },
  {
   "cell_type": "code",
   "execution_count": null,
   "id": "0f26dede",
   "metadata": {},
   "outputs": [],
   "source": [
    "L_outliers=(Q1)-1.5*(Q3-Q1)\n",
    "U_outliers=(Q3)+1.5*(Q3-Q1)\n",
    "print('L_outliers :',L_outliers)\n",
    "print('U_outliers :',U_outliers)"
   ]
  },
  {
   "cell_type": "code",
   "execution_count": null,
   "id": "cc2b1688",
   "metadata": {},
   "outputs": [],
   "source": [
    "print('Number of oultliers in pdays upper : ',data[data['pdays']>999]['pdays'].count())\n",
    "print('Number of outliers in pdays lower : ', data[data['pdays']<999]['pdays'].count())"
   ]
  },
  {
   "cell_type": "code",
   "execution_count": null,
   "id": "57050b18",
   "metadata": {},
   "outputs": [],
   "source": [
    "data.loc[data['pdays']<999]"
   ]
  },
  {
   "cell_type": "code",
   "execution_count": null,
   "id": "afcbfbc1",
   "metadata": {},
   "outputs": [],
   "source": [
    "median=data.loc[data['pdays']<999,'pdays'].median()\n",
    "median"
   ]
  },
  {
   "cell_type": "code",
   "execution_count": null,
   "id": "66550e97",
   "metadata": {},
   "outputs": [],
   "source": [
    "data.loc[data.pdays<999,'pdays']=np.nan\n",
    "data['pdays'].fillna(data['pdays'].median(),inplace=True)"
   ]
  },
  {
   "cell_type": "code",
   "execution_count": null,
   "id": "6d5ab566",
   "metadata": {
    "scrolled": true
   },
   "outputs": [],
   "source": [
    "sns.boxplot(data['pdays'])"
   ]
  },
  {
   "cell_type": "markdown",
   "id": "8e0c5623",
   "metadata": {},
   "source": [
    "### CONVERTING CATEGORICAL DATA IN TO NUMERICAL DATA"
   ]
  },
  {
   "cell_type": "code",
   "execution_count": null,
   "id": "13b6669b",
   "metadata": {},
   "outputs": [],
   "source": [
    "df=data.copy()"
   ]
  },
  {
   "cell_type": "code",
   "execution_count": null,
   "id": "37f28c1c",
   "metadata": {},
   "outputs": [],
   "source": [
    "# converting to numerical data\n",
    "df['marital'].replace(['married', 'single', 'divorced','unknown'],[3,2,1,0],inplace=True)\n",
    "df['education'].replace(['basic.4y','basic.6y','basic.9y','professional.course', 'unknown', 'high.school','university.degree','illiterate'],[3,2,0,1,4,5,6,7],inplace=True)\n",
    "df['contact'].replace([ 'cellular', 'telephone'],[1,2],inplace=True)\n",
    "df['month'].replace(['may', 'jun', 'jul', 'aug', 'oct', 'nov', 'dec', 'jan', 'feb', 'mar', 'apr', 'sep'],[5,6,7,8,10,11,12,1,2,3,4,9],inplace=True)\n",
    "df['poutcome'].replace([ 'success','nonexistent' ,'failure'],[0,2,1],inplace=True)\n",
    "df['day_of_week'].replace(['mon','tue','wed','thu','fri'],[0,1,2,3,4],inplace=True)\n",
    "df['job'].replace(['housemaid','services','admin.', 'blue-collar', 'technician' ,'retired','management', 'unemployed', 'self-employed', 'unknown' ,'entrepreneur','student'],[0,1,2,3,4,5,6,7,8,9,10,11],inplace=True)\n",
    "df['default'].replace(['unknown','no','yes'],[1,0,2],inplace=True)\n",
    "df['housing'].replace(['yes','no','unknown'],[1,0,2],inplace=True)\n",
    "df['loan'].replace(['yes','no','unknown'],[1,0,2],inplace=True)\n",
    "df['y'].replace(['no','yes'],[0,1],inplace=True)"
   ]
  },
  {
   "cell_type": "code",
   "execution_count": null,
   "id": "0df7ced6",
   "metadata": {},
   "outputs": [],
   "source": [
    "df"
   ]
  },
  {
   "cell_type": "code",
   "execution_count": null,
   "id": "82648eb7",
   "metadata": {},
   "outputs": [],
   "source": [
    "df.info()"
   ]
  },
  {
   "cell_type": "markdown",
   "id": "6bbe6d0e",
   "metadata": {},
   "source": [
    "# MODEL BUILDING"
   ]
  },
  {
   "cell_type": "code",
   "execution_count": null,
   "id": "cd1e98b6",
   "metadata": {},
   "outputs": [],
   "source": [
    "X=df.drop(columns=['y'])\n",
    "Y=df['y']"
   ]
  },
  {
   "cell_type": "markdown",
   "id": "ed62d624",
   "metadata": {},
   "source": [
    "##### scaling the data using MinMaxScaler"
   ]
  },
  {
   "cell_type": "code",
   "execution_count": null,
   "id": "06710742",
   "metadata": {},
   "outputs": [],
   "source": [
    "from sklearn.preprocessing import MinMaxScaler\n",
    "Scaler=MinMaxScaler()"
   ]
  },
  {
   "cell_type": "code",
   "execution_count": null,
   "id": "18a065de",
   "metadata": {},
   "outputs": [],
   "source": [
    "from sklearn.model_selection import train_test_split\n",
    "X_train, X_test, Y_train, Y_test = train_test_split(X , Y, test_size=.25, random_state=42, )"
   ]
  },
  {
   "cell_type": "code",
   "execution_count": null,
   "id": "a0fe871c",
   "metadata": {},
   "outputs": [],
   "source": [
    "X_train1= Scaler.fit_transform(X_train)\n",
    "X_test1=Scaler.transform(X_test)"
   ]
  },
  {
   "cell_type": "code",
   "execution_count": null,
   "id": "f7d80e14",
   "metadata": {},
   "outputs": [],
   "source": [
    "X_train1.shape,X_test1.shape"
   ]
  },
  {
   "cell_type": "markdown",
   "id": "32217601",
   "metadata": {},
   "source": [
    "## LOGISTIC REGRESSION"
   ]
  },
  {
   "cell_type": "code",
   "execution_count": null,
   "id": "b47f4a04",
   "metadata": {},
   "outputs": [],
   "source": [
    "from sklearn.linear_model import LogisticRegression\n",
    "log_reg= LogisticRegression()\n",
    "log_reg.fit(X_train1,Y_train)\n",
    "Y_pred=log_reg.predict(X_test1)\n",
    "Y_pred"
   ]
  },
  {
   "cell_type": "code",
   "execution_count": null,
   "id": "b3557464",
   "metadata": {},
   "outputs": [],
   "source": [
    "from sklearn.metrics import accuracy_score,auc,confusion_matrix,precision_score,recall_score\n",
    "accuracy = accuracy_score(Y_test,Y_pred)\n",
    "accuracy"
   ]
  },
  {
   "cell_type": "code",
   "execution_count": null,
   "id": "632ec25d",
   "metadata": {},
   "outputs": [],
   "source": [
    "Y_train_predict=log_reg.predict(X_train1)\n",
    "acc_train=accuracy_score(Y_train,Y_train_predict)\n",
    "acc_train"
   ]
  },
  {
   "cell_type": "code",
   "execution_count": null,
   "id": "c0889ffe",
   "metadata": {},
   "outputs": [],
   "source": [
    "from sklearn.metrics import classification_report\n",
    "print(classification_report(Y_test,Y_pred))\n"
   ]
  },
  {
   "cell_type": "markdown",
   "id": "45b3a9ff",
   "metadata": {},
   "source": [
    "### Logistic regression algorithm got 91% of perfomance."
   ]
  },
  {
   "cell_type": "markdown",
   "id": "bbe0d62d",
   "metadata": {},
   "source": [
    "# KNN"
   ]
  },
  {
   "cell_type": "code",
   "execution_count": null,
   "id": "f5239668",
   "metadata": {},
   "outputs": [],
   "source": [
    "from imblearn.over_sampling import SMOTE"
   ]
  },
  {
   "cell_type": "code",
   "execution_count": null,
   "id": "a2dea660",
   "metadata": {},
   "outputs": [],
   "source": [
    "sm=SMOTE()"
   ]
  },
  {
   "cell_type": "code",
   "execution_count": null,
   "id": "66b88673",
   "metadata": {},
   "outputs": [],
   "source": [
    "x_sm,y_sm=sm.fit_resample(X_train1,Y_train)"
   ]
  },
  {
   "cell_type": "code",
   "execution_count": null,
   "id": "dbf8795a",
   "metadata": {},
   "outputs": [],
   "source": [
    "from collections import Counter\n",
    "counter=Counter()"
   ]
  },
  {
   "cell_type": "code",
   "execution_count": null,
   "id": "22d5bbdf",
   "metadata": {},
   "outputs": [],
   "source": [
    "print('Actual classes :',Counter(Y_train))\n",
    "print(\"smoted classes:\",Counter(y_sm))"
   ]
  },
  {
   "cell_type": "code",
   "execution_count": null,
   "id": "8578a715",
   "metadata": {},
   "outputs": [],
   "source": [
    "from sklearn.neighbors import KNeighborsClassifier\n",
    "error_rate = []\n",
    "for i in range(1,11):             \n",
    "    knn = KNeighborsClassifier(n_neighbors=i)                               \n",
    "    knn.fit(x_sm,y_sm)                      \n",
    "    pred_knn = knn.predict(X_test1)\n",
    "    error_rate.append(np.mean(pred_knn != Y_test))         "
   ]
  },
  {
   "cell_type": "code",
   "execution_count": null,
   "id": "bebc20a5",
   "metadata": {},
   "outputs": [],
   "source": [
    "plt.figure(figsize=(10,6))\n",
    "plt.plot(range(1,11),error_rate,color='blue',linestyle='dashed',marker='o',markerfacecolor='red',markersize=10)\n",
    "plt.title('Error Rate vs. K value')\n",
    "plt.xlabel('k')\n",
    "plt.ylabel('Error Rate')"
   ]
  },
  {
   "cell_type": "code",
   "execution_count": null,
   "id": "87131172",
   "metadata": {},
   "outputs": [],
   "source": [
    "knn=KNeighborsClassifier(n_neighbors=5)\n",
    "knn.fit(x_sm,y_sm)\n",
    "Y_pred=knn.predict(X_test1)"
   ]
  },
  {
   "cell_type": "code",
   "execution_count": null,
   "id": "9cbb5bc5",
   "metadata": {},
   "outputs": [],
   "source": [
    "from sklearn.metrics import accuracy_score,classification_report,confusion_matrix,precision_score"
   ]
  },
  {
   "cell_type": "code",
   "execution_count": null,
   "id": "50b83e85",
   "metadata": {},
   "outputs": [],
   "source": [
    "print(\"accuracy_score is : \",accuracy_score(Y_test,Y_pred))"
   ]
  },
  {
   "cell_type": "code",
   "execution_count": null,
   "id": "363d8727",
   "metadata": {},
   "outputs": [],
   "source": [
    "print(confusion_matrix(Y_test,Y_pred))"
   ]
  },
  {
   "cell_type": "code",
   "execution_count": null,
   "id": "fa736552",
   "metadata": {
    "scrolled": true
   },
   "outputs": [],
   "source": [
    "print(classification_report(Y_test,Y_pred))"
   ]
  },
  {
   "cell_type": "code",
   "execution_count": null,
   "id": "efe3d456",
   "metadata": {},
   "outputs": [],
   "source": [
    "print(precision_score(Y_test,Y_pred))"
   ]
  },
  {
   "cell_type": "markdown",
   "id": "c5f2a440",
   "metadata": {},
   "source": [
    "### KNN classification accuracy got 82%."
   ]
  },
  {
   "cell_type": "markdown",
   "id": "18ccdb31",
   "metadata": {},
   "source": [
    "# SVM"
   ]
  },
  {
   "cell_type": "code",
   "execution_count": null,
   "id": "b9f7b445",
   "metadata": {},
   "outputs": [],
   "source": [
    "from sklearn.svm import SVC\n",
    "svm=SVC()\n",
    "svm.fit(X_train,Y_train)"
   ]
  },
  {
   "cell_type": "code",
   "execution_count": null,
   "id": "e694e7d3",
   "metadata": {},
   "outputs": [],
   "source": [
    "Y_pred_sv=svm.predict(X_test)"
   ]
  },
  {
   "cell_type": "code",
   "execution_count": null,
   "id": "de6268af",
   "metadata": {},
   "outputs": [],
   "source": [
    "from sklearn.metrics import accuracy_score,recall_score,classification_report,f1_score"
   ]
  },
  {
   "cell_type": "code",
   "execution_count": null,
   "id": "b6ba80f2",
   "metadata": {},
   "outputs": [],
   "source": [
    "print(accuracy_score(Y_test,Y_pred_sv))"
   ]
  },
  {
   "cell_type": "code",
   "execution_count": null,
   "id": "0dbbb02e",
   "metadata": {},
   "outputs": [],
   "source": [
    "print(classification_report(Y_test,Y_pred_sv))"
   ]
  },
  {
   "cell_type": "code",
   "execution_count": null,
   "id": "7d27ab1d",
   "metadata": {},
   "outputs": [],
   "source": [
    "cm=pd.crosstab(Y_test,Y_pred_sv)"
   ]
  },
  {
   "cell_type": "code",
   "execution_count": null,
   "id": "bb675426",
   "metadata": {},
   "outputs": [],
   "source": [
    "cm"
   ]
  },
  {
   "cell_type": "markdown",
   "id": "8f0aec8b",
   "metadata": {},
   "source": [
    "### from data applying SVM algorithm we have get 90% perfomance."
   ]
  },
  {
   "cell_type": "markdown",
   "id": "a7eb8d80",
   "metadata": {},
   "source": [
    "#  RANDOM  FOREST"
   ]
  },
  {
   "cell_type": "code",
   "execution_count": null,
   "id": "4a227aff",
   "metadata": {},
   "outputs": [],
   "source": [
    "from sklearn.ensemble import RandomForestClassifier\n",
    "rf=RandomForestClassifier()\n",
    "rf.fit(X_train,Y_train)"
   ]
  },
  {
   "cell_type": "code",
   "execution_count": null,
   "id": "aeaae14b",
   "metadata": {},
   "outputs": [],
   "source": [
    "Y_pred_rf= rf.predict(X_test)"
   ]
  },
  {
   "cell_type": "code",
   "execution_count": null,
   "id": "23a2a813",
   "metadata": {},
   "outputs": [],
   "source": [
    "Y_pred_rf"
   ]
  },
  {
   "cell_type": "code",
   "execution_count": null,
   "id": "450a52b0",
   "metadata": {},
   "outputs": [],
   "source": [
    "(Y_test==Y_pred_rf).sum()/len(Y_test)*100"
   ]
  },
  {
   "cell_type": "code",
   "execution_count": null,
   "id": "c7ba6ee3",
   "metadata": {},
   "outputs": [],
   "source": [
    "print(accuracy_score(Y_test,Y_pred_rf))"
   ]
  },
  {
   "cell_type": "code",
   "execution_count": null,
   "id": "26d1fc07",
   "metadata": {},
   "outputs": [],
   "source": [
    "print(classification_report(Y_test,Y_pred_rf))"
   ]
  },
  {
   "cell_type": "code",
   "execution_count": null,
   "id": "0b47bcff",
   "metadata": {
    "scrolled": true
   },
   "outputs": [],
   "source": [
    "pd.crosstab(Y_test,Y_pred_rf)"
   ]
  },
  {
   "cell_type": "markdown",
   "id": "7eb9ff5f",
   "metadata": {},
   "source": [
    "### RANDOM FOREST algorithm got 91% accuracy. "
   ]
  },
  {
   "cell_type": "markdown",
   "id": "b4e256fd",
   "metadata": {},
   "source": [
    "# XG BOOSTER"
   ]
  },
  {
   "cell_type": "code",
   "execution_count": null,
   "id": "3b891414",
   "metadata": {},
   "outputs": [],
   "source": [
    "from sklearn.ensemble import GradientBoostingClassifier\n",
    "XGB=GradientBoostingClassifier()\n",
    "XGB.fit(X_train,Y_train)"
   ]
  },
  {
   "cell_type": "code",
   "execution_count": null,
   "id": "1ebcda94",
   "metadata": {},
   "outputs": [],
   "source": [
    "Y_pred_GB=XGB.predict(X_test)"
   ]
  },
  {
   "cell_type": "code",
   "execution_count": null,
   "id": "0bee5f17",
   "metadata": {},
   "outputs": [],
   "source": [
    "from sklearn.metrics import accuracy_score,classification_report,recall_score,f1_score"
   ]
  },
  {
   "cell_type": "code",
   "execution_count": null,
   "id": "ed505b0b",
   "metadata": {},
   "outputs": [],
   "source": [
    "print(accuracy_score(Y_test,Y_pred_GB))"
   ]
  },
  {
   "cell_type": "code",
   "execution_count": null,
   "id": "9fa79569",
   "metadata": {},
   "outputs": [],
   "source": [
    "print(classification_report(Y_test,Y_pred_GB))"
   ]
  },
  {
   "cell_type": "code",
   "execution_count": null,
   "id": "fd0ae4cc",
   "metadata": {},
   "outputs": [],
   "source": [
    "pd.crosstab(Y_test,Y_pred_GB)"
   ]
  },
  {
   "cell_type": "markdown",
   "id": "5bad5157",
   "metadata": {},
   "source": [
    "### XG BOOSTER Algorithm got 92% perfomance."
   ]
  },
  {
   "cell_type": "markdown",
   "id": "d6cff115",
   "metadata": {},
   "source": [
    "# DECISION TREE"
   ]
  },
  {
   "cell_type": "code",
   "execution_count": null,
   "id": "c03ef7b3",
   "metadata": {},
   "outputs": [],
   "source": [
    "from sklearn.tree import DecisionTreeClassifier\n",
    "DT=DecisionTreeClassifier()\n",
    "DT.fit(X_train,Y_train)"
   ]
  },
  {
   "cell_type": "code",
   "execution_count": null,
   "id": "fd20af47",
   "metadata": {},
   "outputs": [],
   "source": [
    "Y_pred_DT=DT.predict(X_test)"
   ]
  },
  {
   "cell_type": "code",
   "execution_count": null,
   "id": "be3e594e",
   "metadata": {},
   "outputs": [],
   "source": [
    "from sklearn.metrics import classification_report,accuracy_score,f1_score,recall_score"
   ]
  },
  {
   "cell_type": "code",
   "execution_count": null,
   "id": "e90cd5b8",
   "metadata": {},
   "outputs": [],
   "source": [
    "print(accuracy_score(Y_test,Y_pred_DT))"
   ]
  },
  {
   "cell_type": "code",
   "execution_count": null,
   "id": "c5bb4d8e",
   "metadata": {},
   "outputs": [],
   "source": [
    "print(classification_report(Y_test,Y_pred_DT))"
   ]
  },
  {
   "cell_type": "code",
   "execution_count": null,
   "id": "09c08f7d",
   "metadata": {},
   "outputs": [],
   "source": [
    "pd.crosstab(Y_test,Y_pred_DT)"
   ]
  },
  {
   "cell_type": "markdown",
   "id": "1a789fdd",
   "metadata": {},
   "source": [
    "   ## DECISION TREE algorithm got perfomance rate is 89%."
   ]
  },
  {
   "cell_type": "markdown",
   "id": "ef68520a",
   "metadata": {},
   "source": [
    "# CONCLUSION"
   ]
  },
  {
   "cell_type": "markdown",
   "id": "ac37e475",
   "metadata": {},
   "source": [
    "## 1) Portughese bank data sets we predict the model using different type of machine learning algorithms LOGISTIC REGRESSION, KNN, SVM, RANDOM FOREST, XG BOOSTER, DECISION TREE.\n",
    "\n",
    "## 2) We have get a different accuracy score in machine learning algorithms. here we got maximum accuracy score in XG BOOSTER Perfomance rate is 92% compared to other model evaluation."
   ]
  },
  {
   "cell_type": "code",
   "execution_count": null,
   "id": "3e6bb819",
   "metadata": {},
   "outputs": [],
   "source": []
  }
 ],
 "metadata": {
  "kernelspec": {
   "display_name": "Python 3 (ipykernel)",
   "language": "python",
   "name": "python3"
  },
  "language_info": {
   "codemirror_mode": {
    "name": "ipython",
    "version": 3
   },
   "file_extension": ".py",
   "mimetype": "text/x-python",
   "name": "python",
   "nbconvert_exporter": "python",
   "pygments_lexer": "ipython3",
   "version": "3.10.9"
  }
 },
 "nbformat": 4,
 "nbformat_minor": 5
}
